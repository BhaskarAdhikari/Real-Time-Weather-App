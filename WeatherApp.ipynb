{
 "cells": [
  {
   "cell_type": "code",
   "execution_count": 17,
   "metadata": {},
   "outputs": [
    {
     "name": "stdout",
     "output_type": "stream",
     "text": [
      " * Serving Flask app '__main__'\n",
      " * Debug mode: off\n"
     ]
    },
    {
     "name": "stderr",
     "output_type": "stream",
     "text": [
      "WARNING: This is a development server. Do not use it in a production deployment. Use a production WSGI server instead.\n",
      " * Running on http://127.0.0.1:5000\n",
      "Press CTRL+C to quit\n",
      "127.0.0.1 - - [10/Mar/2025 10:15:14] \"GET / HTTP/1.1\" 200 -\n",
      "127.0.0.1 - - [10/Mar/2025 10:15:17] \"POST / HTTP/1.1\" 200 -\n"
     ]
    }
   ],
   "source": [
    "import os\n",
    "import requests\n",
    "from flask import Flask, render_template_string, request\n",
    "\n",
    "app = Flask(__name__)\n",
    "\n",
    "def get_real_time_temperature(city, country, api_key):\n",
    "    \"\"\"Use the free Weather API endpoint instead of OneCall API\"\"\"\n",
    "    base_url = \"api.openweathermap.org/data/2.5/weather?q=London,uk&APPID=51954a19a7127c68dabe9f25100b228a\"\n",
    "    params = {\n",
    "        'q': f\"{city},{country}\",\n",
    "        'appid': api_key,\n",
    "        'units': 'metric'\n",
    "    }\n",
    "    try:\n",
    "        response = requests.get(base_url, params=params)\n",
    "        response.raise_for_status()\n",
    "        weather_data = response.json()\n",
    "        temperature = weather_data['main']['temp']\n",
    "        return temperature, None\n",
    "    except requests.exceptions.HTTPError as http_err:\n",
    "        return None, f\"HTTP error occurred: {http_err}\"\n",
    "    except Exception as err:\n",
    "        return None, f\"Error getting temperature: {err}\"\n",
    "\n",
    "@app.route('/', methods=['GET', 'POST'])\n",
    "def index():\n",
    "    temperature = None\n",
    "    error_message = None\n",
    "\n",
    "    if request.method == 'POST':\n",
    "        city = request.form.get('city')\n",
    "        country = request.form.get('country')\n",
    "        api_key = os.getenv('51954a19a7127c68dabe9f25100b228a')\n",
    "\n",
    "        if not api_key:\n",
    "            error_message = \"API key not found. Please set the WEATHER_API_KEY environment variable.\"\n",
    "        elif city and country:\n",
    "            temperature, error = get_real_time_temperature(city, country, api_key)\n",
    "            if error:\n",
    "                error_message = error\n",
    "    \n",
    "    # ...rest of the template code remains the same...\n",
    "\n",
    "    return render_template_string('''\n",
    "        <!doctype html>\n",
    "        <html lang=\"en\">\n",
    "          <head>\n",
    "            <meta charset=\"utf-8\">\n",
    "            <meta name=\"viewport\" content=\"width=device-width, initial-scale=1, shrink-to-fit=no\">\n",
    "            <title>Weather App</title>\n",
    "            <link rel=\"stylesheet\" href=\"https://stackpath.bootstrapcdn.com/bootstrap/4.3.1/css/bootstrap.min.css\">\n",
    "          </head>\n",
    "          <body>\n",
    "            <div class=\"container\">\n",
    "              <h1 class=\"mt-5\">Real-Time Temperature Checker</h1>\n",
    "              <form method=\"post\" class=\"mt-3\">\n",
    "                <div class=\"form-group\">\n",
    "                  <label for=\"city\">City</label>\n",
    "                  <input type=\"text\" class=\"form-control\" id=\"city\" name=\"city\" required>\n",
    "                </div>\n",
    "                <div class=\"form-group\">\n",
    "                  <label for=\"country\">Country</label>\n",
    "                  <input type=\"text\" class=\"form-control\" id=\"country\" name=\"country\" required>\n",
    "                </div>\n",
    "                <button type=\"submit\" class=\"btn btn-primary\">Get Temperature</button>\n",
    "              </form>\n",
    "              {% if temperature is not none %}\n",
    "                <div class=\"alert alert-info mt-3\">\n",
    "                  The current temperature in {{ request.form.city }}, {{ request.form.country }} is {{ temperature }}°C.\n",
    "                </div>\n",
    "              {% elif error_message %}\n",
    "                <div class=\"alert alert-danger mt-3\">\n",
    "                  {{ error_message }}\n",
    "                </div>\n",
    "              {% endif %}\n",
    "            </div>\n",
    "            <script src=\"https://code.jquery.com/jquery-3.3.1.slim.min.js\"></script>\n",
    "            <script src=\"https://cdnjs.cloudflare.com/ajax/libs/popper.js/1.14.7/umd/popper.min.js\"></script>\n",
    "            <script src=\"https://stackpath.bootstrapcdn.com/bootstrap/4.3.1/js/bootstrap.min.js\"></script>\n",
    "          </body>\n",
    "        </html>\n",
    "        ''', temperature=temperature, error_message=error_message)\n",
    "\n",
    "if __name__ == '__main__':\n",
    "    app.run()\n"
   ]
  }
 ],
 "metadata": {
  "kernelspec": {
   "display_name": "Python 3",
   "language": "python",
   "name": "python3"
  },
  "language_info": {
   "codemirror_mode": {
    "name": "ipython",
    "version": 3
   },
   "file_extension": ".py",
   "mimetype": "text/x-python",
   "name": "python",
   "nbconvert_exporter": "python",
   "pygments_lexer": "ipython3",
   "version": "3.11.3"
  }
 },
 "nbformat": 4,
 "nbformat_minor": 2
}
